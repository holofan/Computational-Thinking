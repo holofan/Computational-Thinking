{
  "nbformat": 4,
  "nbformat_minor": 0,
  "metadata": {
    "colab": {
      "name": "宋思賢-week11",
      "provenance": [],
      "authorship_tag": "ABX9TyPw5VD+aWKhBnLjFBPGKsIK",
      "include_colab_link": true
    },
    "kernelspec": {
      "name": "python3",
      "display_name": "Python 3"
    }
  },
  "cells": [
    {
      "cell_type": "markdown",
      "metadata": {
        "id": "view-in-github",
        "colab_type": "text"
      },
      "source": [
        "<a href=\"https://colab.research.google.com/github/holofan/Computational-Thinking/blob/master/%E5%AE%8B%E6%80%9D%E8%B3%A2_week11.ipynb\" target=\"_parent\"><img src=\"https://colab.research.google.com/assets/colab-badge.svg\" alt=\"Open In Colab\"/></a>"
      ]
    },
    {
      "cell_type": "code",
      "metadata": {
        "colab": {
          "base_uri": "https://localhost:8080/",
          "height": 131
        },
        "id": "CoiOSoTYouw0",
        "outputId": "e35ab43b-491f-4596-8417-d13eaf55cfea"
      },
      "source": [
        "\n",
        "1 # 方法(一):商數\n",
        "2 ## Input\n",
        "3 number=input(\"Enter your seat number?\")\n",
        "4 number=int(number)\n",
        "5 ## Process\n",
        "6 group=(number-1)//5+1\n",
        "7 ## Output\n",
        "8 print(\"Groups is\",group)"
      ],
      "execution_count": 18,
      "outputs": [
        {
          "output_type": "error",
          "ename": "SyntaxError",
          "evalue": "ignored",
          "traceback": [
            "\u001b[0;36m  File \u001b[0;32m\"<ipython-input-18-9fba54335c7d>\"\u001b[0;36m, line \u001b[0;32m4\u001b[0m\n\u001b[0;31m    3 number=input(\"Enter your seat number?\")\u001b[0m\n\u001b[0m           ^\u001b[0m\n\u001b[0;31mSyntaxError\u001b[0m\u001b[0;31m:\u001b[0m invalid syntax\n"
          ]
        }
      ]
    },
    {
      "cell_type": "code",
      "metadata": {
        "id": "raLUVSqOpn1V"
      },
      "source": [
        ""
      ],
      "execution_count": 1,
      "outputs": []
    }
  ]
}