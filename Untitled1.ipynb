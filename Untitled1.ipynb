{
  "nbformat": 4,
  "nbformat_minor": 0,
  "metadata": {
    "colab": {
      "name": "Untitled1.ipynb",
      "provenance": [],
      "authorship_tag": "ABX9TyNP61l/0PCV2/Z7lUPung6q",
      "include_colab_link": true
    },
    "kernelspec": {
      "name": "python3",
      "display_name": "Python 3"
    }
  },
  "cells": [
    {
      "cell_type": "markdown",
      "metadata": {
        "id": "view-in-github",
        "colab_type": "text"
      },
      "source": [
        "<a href=\"https://colab.research.google.com/github/holofan/Computational-Thinking/blob/master/Untitled1.ipynb\" target=\"_parent\"><img src=\"https://colab.research.google.com/assets/colab-badge.svg\" alt=\"Open In Colab\"/></a>"
      ]
    },
    {
      "cell_type": "code",
      "metadata": {
        "id": "-aU9K1V9fm1c",
        "outputId": "9c4365f5-c394-402d-f680-226ca12b9333",
        "colab": {
          "base_uri": "https://localhost:8080/"
        }
      },
      "source": [
        "magic_number=(24%7)*(2**5+79)\n",
        "print(magic_number)"
      ],
      "execution_count": 9,
      "outputs": [
        {
          "output_type": "stream",
          "text": [
            "333\n"
          ],
          "name": "stdout"
        }
      ]
    }
  ]
}